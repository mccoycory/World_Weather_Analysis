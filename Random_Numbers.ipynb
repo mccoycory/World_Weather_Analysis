{
 "cells": [
  {
   "cell_type": "code",
   "execution_count": 1,
   "id": "8c58ff2f",
   "metadata": {},
   "outputs": [],
   "source": [
    "import random\n"
   ]
  },
  {
   "cell_type": "code",
   "execution_count": 2,
   "id": "71a50916",
   "metadata": {},
   "outputs": [
    {
     "data": {
      "text/plain": [
       "25"
      ]
     },
     "execution_count": 2,
     "metadata": {},
     "output_type": "execute_result"
    }
   ],
   "source": [
    "random.randint(-90,90)"
   ]
  },
  {
   "cell_type": "code",
   "execution_count": 3,
   "id": "c453f25f",
   "metadata": {},
   "outputs": [
    {
     "data": {
      "text/plain": [
       "0.3165817103040869"
      ]
     },
     "execution_count": 3,
     "metadata": {},
     "output_type": "execute_result"
    }
   ],
   "source": [
    "random.random()"
   ]
  },
  {
   "cell_type": "code",
   "execution_count": 4,
   "id": "2baeae96",
   "metadata": {},
   "outputs": [
    {
     "data": {
      "text/plain": [
       "35.38451188973501"
      ]
     },
     "execution_count": 4,
     "metadata": {},
     "output_type": "execute_result"
    }
   ],
   "source": [
    "random_number = random.randint(-90,89) + random.random()\n",
    "random_number"
   ]
  },
  {
   "cell_type": "code",
   "execution_count": 5,
   "id": "86b8602d",
   "metadata": {},
   "outputs": [
    {
     "data": {
      "text/plain": [
       "[-44.77352160912809,\n",
       " 86.76728378069551,\n",
       " -52.885258099295896,\n",
       " 82.24291148451633,\n",
       " -78.53361545209425,\n",
       " -14.98534642306324,\n",
       " 18.61746335577676,\n",
       " -20.073563963750267,\n",
       " -33.24278135531128,\n",
       " 74.59937917054556]"
      ]
     },
     "execution_count": 5,
     "metadata": {},
     "output_type": "execute_result"
    }
   ],
   "source": [
    "x = 1\n",
    "latitudes = []\n",
    "while x < 11:\n",
    "    random_lat = random.randint(-90, 89) + random.random()\n",
    "    latitudes.append(random_lat)\n",
    "    x += 1\n",
    "    \n",
    "latitudes    "
   ]
  },
  {
   "cell_type": "code",
   "execution_count": 6,
   "id": "a321f0b5",
   "metadata": {},
   "outputs": [
    {
     "data": {
      "text/plain": [
       "<module 'numpy.version' from 'C:\\\\Users\\\\corym\\\\anaconda3\\\\envs\\\\PythonData\\\\lib\\\\site-packages\\\\numpy\\\\version.py'>"
      ]
     },
     "execution_count": 6,
     "metadata": {},
     "output_type": "execute_result"
    }
   ],
   "source": [
    "# Import the NumPy module.\n",
    "import numpy as np\n",
    "np.version"
   ]
  },
  {
   "cell_type": "code",
   "execution_count": 7,
   "id": "6873161c",
   "metadata": {},
   "outputs": [
    {
     "data": {
      "text/plain": [
       "array([-38.02533876, -73.58085991,  56.88914047, -41.71418727,\n",
       "        37.96625502,  52.51787962, -32.6387819 ,  39.61419533,\n",
       "       -29.307441  ,  83.49293455, -61.33725106, -46.21576051,\n",
       "       -15.76909672,  33.80197577, -20.71691731,  74.09089232,\n",
       "       -31.53797641,  39.8414304 ,  16.50078973, -44.7675227 ,\n",
       "       -88.58463338,  59.38381804, -22.97295265,  25.4486793 ,\n",
       "       -37.39712579, -70.30561995,   6.68878972, -24.03301654,\n",
       "        23.27384696,  13.93001678, -52.80436626, -27.27676035,\n",
       "        29.90383289,  -4.47531097,   4.31494833,  29.83433355,\n",
       "       -27.36821222, -69.51144346, -30.9509468 ,  84.81631773,\n",
       "        73.197809  , -33.80939284,  -9.2395422 , -15.40101731,\n",
       "        -7.61532526, -63.43128201,  39.09557583,  -0.64227505,\n",
       "        46.95581177,  -7.14741422])"
      ]
     },
     "execution_count": 7,
     "metadata": {},
     "output_type": "execute_result"
    }
   ],
   "source": [
    "np.random.uniform(-90.000,90.000, size=50)"
   ]
  },
  {
   "cell_type": "code",
   "execution_count": 8,
   "id": "287eae8c",
   "metadata": {},
   "outputs": [
    {
     "name": "stdout",
     "output_type": "stream",
     "text": [
      "47.7 µs ± 12.6 µs per loop (mean ± std. dev. of 7 runs, 10000 loops each)\n"
     ]
    }
   ],
   "source": [
    "import timeit\n",
    "%timeit np.random.uniform(-90.000,90.000, size=1500)"
   ]
  },
  {
   "cell_type": "code",
   "execution_count": 9,
   "id": "4d4278cd",
   "metadata": {},
   "outputs": [
    {
     "name": "stdout",
     "output_type": "stream",
     "text": [
      "4.7 ms ± 242 µs per loop (mean ± std. dev. of 7 runs, 100 loops each)\n"
     ]
    }
   ],
   "source": [
    "def latitudes(size):\n",
    "    latitudes = []\n",
    "    x = 0\n",
    "    while x < (size):\n",
    "        random_lat = random.randint(-90, 90) + random.random()\n",
    "        latitudes.append(random_lat)\n",
    "        x += 1\n",
    "    return latitudes\n",
    "# Call the function with 1500.\n",
    "%timeit latitudes(1500)"
   ]
  },
  {
   "cell_type": "code",
   "execution_count": null,
   "id": "68ddbbe9",
   "metadata": {},
   "outputs": [],
   "source": []
  }
 ],
 "metadata": {
  "kernelspec": {
   "display_name": "PythonData",
   "language": "python",
   "name": "pythondata"
  },
  "language_info": {
   "codemirror_mode": {
    "name": "ipython",
    "version": 3
   },
   "file_extension": ".py",
   "mimetype": "text/x-python",
   "name": "python",
   "nbconvert_exporter": "python",
   "pygments_lexer": "ipython3",
   "version": "3.9.4"
  }
 },
 "nbformat": 4,
 "nbformat_minor": 5
}
